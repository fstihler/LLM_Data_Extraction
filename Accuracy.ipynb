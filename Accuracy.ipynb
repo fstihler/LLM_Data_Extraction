{
 "cells": [
  {
   "cell_type": "code",
   "execution_count": null,
   "id": "3e198be0",
   "metadata": {},
   "outputs": [],
   "source": [
    "# Potentially useful NER source\n",
    "# GENIA corpus of MEDLINE abstracts\n",
    "# http://www.aclweb.org/anthology/W04-1213"
   ]
  },
  {
   "cell_type": "code",
   "execution_count": 1,
   "id": "6afdde9e",
   "metadata": {},
   "outputs": [],
   "source": [
    "import os\n",
    "import pandas as pd\n",
    "import numpy as np\n",
    "import re\n",
    "from fuzzywuzzy import fuzz"
   ]
  },
  {
   "cell_type": "markdown",
   "id": "639961ab",
   "metadata": {},
   "source": [
    "## Setup\n",
    "Setup directories, and read in annotated labels (ground truth)"
   ]
  },
  {
   "cell_type": "code",
   "execution_count": 3,
   "id": "3c4ae447",
   "metadata": {},
   "outputs": [
    {
     "name": "stdout",
     "output_type": "stream",
     "text": [
      "Targets: ['Cancer Type', 'Cancer Location']\n",
      "Working with data for 100 annotated uuids\n"
     ]
    }
   ],
   "source": [
    "current_dir = os.getcwd()\n",
    "parent_dir = os.path.dirname(current_dir)\n",
    "\n",
    "extracted_dir = parent_dir + '/data/extracted_txt/'\n",
    "\n",
    "df = pd.read_csv(parent_dir + '/data/100annotations.csv')\n",
    "\n",
    "df = df.drop(df.columns[0], axis=1)\n",
    "df = df.fillna('none')\n",
    "\n",
    "targets = list(df.columns)[2:]\n",
    "annotated_uuids = df.iloc[:, 0].unique().tolist()\n",
    "print(f\"Targets: {targets}\")\n",
    "print(f\"Working with data for {len(annotated_uuids)} annotated uuids\")"
   ]
  },
  {
   "cell_type": "markdown",
   "id": "f8365a89",
   "metadata": {},
   "source": [
    "## Standardization Functions\n",
    "\n",
    "1. Standardize Location: Given cancer location, put variable in std. format - direction + location + extra info (e.g. left + lung + lower lobe)\n",
    "\n",
    "&nbsp;\n",
    "2. Standardize Cancer Type: Given cancer location, put variable in std. format (lowercase, strip punctuation)\n"
   ]
  },
  {
   "cell_type": "code",
   "execution_count": 5,
   "id": "18b6593e",
   "metadata": {},
   "outputs": [],
   "source": [
    "def standardize_location(desc):\n",
    "    if desc == 'none' or desc is None:\n",
    "        return 'none'\n",
    "    \n",
    "    desc = re.sub(r'(of|the)', '', desc)\n",
    "    desc = re.sub(r'\\s*,\\s*|\\s+', ' ', desc).strip().lower()\n",
    "    \n",
    "    if 'lll' in desc:\n",
    "        return 'left lung lower lobe'\n",
    "    if 'rll' in desc:\n",
    "         return 'right lung lower lobe'\n",
    "    if 'lul' in desc:\n",
    "         return 'right lung upper lobe'\n",
    "    if 'rul' in desc:\n",
    "         return 'right lung upper lobe'\n",
    "        \n",
    "        \n",
    "    direction = ''\n",
    "    if 'left and right' in desc or 'right and left' in desc:\n",
    "        direction = 'left and right'\n",
    "    if 'left' in desc:\n",
    "        direction = 'left'\n",
    "        desc = re.sub(r'left', '', desc) \n",
    "    if 'right' in desc:\n",
    "        direction = 'right'\n",
    "        desc = re.sub(r'right', '', desc) \n",
    "    \n",
    "    location = ''\n",
    "    if 'lung' in desc:\n",
    "        location = 'lung'\n",
    "        desc = re.sub(r'lung', '', desc) \n",
    "    if 'breast' in desc:\n",
    "        location = 'breast'\n",
    "        desc = re.sub(r'breast', '', desc)\n",
    "        \n",
    "    extra_info = desc\n",
    "    \n",
    "    std_desc = ' '.join([direction, location, extra_info])\n",
    "    std_desc = re.sub(r'\\s+', ' ', std_desc).strip()\n",
    "\n",
    "    return std_desc\n",
    "    "
   ]
  },
  {
   "cell_type": "code",
   "execution_count": 8,
   "id": "a8481db4",
   "metadata": {},
   "outputs": [],
   "source": [
    "def standardize_cancer_type(desc):\n",
    "    std_desc = desc.lower()\n",
    "    std_desc = re.sub(r'[^\\w\\s]', '', std_desc)\n",
    "    return std_desc\n",
    "    "
   ]
  },
  {
   "cell_type": "code",
   "execution_count": 36,
   "id": "d5ebd47b",
   "metadata": {
    "scrolled": true
   },
   "outputs": [],
   "source": [
    "df['Cancer Location'] = df['Cancer Location'].apply(standardize_location)\n",
    "df['Cancer Type'] = df['Cancer Type'].apply(standardize_cancer_type)"
   ]
  },
  {
   "cell_type": "code",
   "execution_count": 16,
   "id": "10ec5b58",
   "metadata": {},
   "outputs": [
    {
     "name": "stdout",
     "output_type": "stream",
     "text": [
      "Cancer Type\n",
      "infiltrating ductal carcinoma                                                             18.58%\n",
      "adenocarcinoma                                                                            18.58%\n",
      "invasive ductal carcinoma                                                                  9.73%\n",
      "ductal carcinoma                                                                           8.85%\n",
      "infiltrating lobular carcinoma                                                             7.08%\n",
      "invasive lobular carcinoma                                                                 5.31%\n",
      "metastatic carcinoma                                                                       3.54%\n",
      "lobular carcinoma                                                                          1.77%\n",
      "esophagogastric adenocarcinoma                                                             1.77%\n",
      "metastatic adenocarcinoma                                                                  1.77%\n",
      "micrometastatic carcinoma                                                                  1.77%\n",
      "moderately differentiated adenocarcinoma                                                   0.88%\n",
      "invasive pleomorphic carcinoma with adeenocarcinoma                                        0.88%\n",
      "moderately differentiated invasive lobular carcinoma                                       0.88%\n",
      "invasive papillary carcinoma                                                               0.88%\n",
      "invasive ductal carcinoma with medullary features                                          0.88%\n",
      "infiltrating invasive and intraductal carcinoma                                            0.88%\n",
      "metastatic lobular carcinoma                                                               0.88%\n",
      "infiltrating moderately differentiated adenocarcinoma with bronchioloalveolar features     0.88%\n",
      "adenocarcinoma with mucinous features                                                      0.88%\n",
      "well differentiated adenocarcinoma                                                         0.88%\n",
      "metaplastic carcinoma                                                                      0.88%\n",
      "intralobular and infiltrating lobular carcinoma                                            0.88%\n",
      "nonsmall cell carcinoma                                                                    0.88%\n",
      "acinar cell adenocarcinoma                                                                 0.88%\n",
      "ductal adenocarcinoma                                                                      0.88%\n",
      "adenocarcinoma micropapillary type                                                         0.88%\n",
      "intraductal and infiltrating ductal carcinoma                                              0.88%\n",
      "invasive adenocarcinoma                                                                    0.88%\n",
      "lobular infiltrating carcinoma                                                             0.88%\n",
      "mucinforming adenocarcinoma                                                                0.88%\n",
      "peripheral bronchopulmonary histologically mixed adenocarcinoma                            0.88%\n",
      "large peripheral bronchopulmonary histologically mixed adenocarcinoma                      0.88%\n",
      "luad lung adenocarcinoma                                                                   0.88%\n",
      "well differentiated adenocarcinoma with clara cell features                                0.88%\n",
      "Name: proportion, dtype: object\n"
     ]
    }
   ],
   "source": [
    "cancer_type_freq = (df['Cancer Type'].value_counts(normalize=True) * 100).round(2)\n",
    "print(cancer_type_freq.astype(str) + '%')"
   ]
  },
  {
   "cell_type": "code",
   "execution_count": 38,
   "id": "0b8eebb3",
   "metadata": {},
   "outputs": [
    {
     "name": "stdout",
     "output_type": "stream",
     "text": [
      "Cancer Location\n",
      "left breast                             24.78%\n",
      "right breast                            20.35%\n",
      "right lung upper lobe                    7.96%\n",
      "breast                                   7.96%\n",
      "left lung lower lobe                     6.19%\n",
      "left lung upper lobe                     5.31%\n",
      "right lung lower lobe                    4.42%\n",
      "lymph node                               4.42%\n",
      "none                                     1.77%\n",
      "right lung                               1.77%\n",
      "left breast upper outer quadrant         1.77%\n",
      "anterior lymph node hilar lymph node     0.88%\n",
      "right lower inner quadrant               0.88%\n",
      "left lateral segment upper lobe          0.88%\n",
      "left breast axillary lymph nodes         0.88%\n",
      "right sentinel lymph node                0.88%\n",
      "right lung -upper                        0.88%\n",
      "proximal stomach                         0.88%\n",
      "right and axilla                         0.88%\n",
      "breast central portion                   0.88%\n",
      "right breast upper inner quadrant        0.88%\n",
      "right breast upper outer quadrant        0.88%\n",
      "esophagogastric junction                 0.88%\n",
      "left upper lobe                          0.88%\n",
      "right lung middle lobe                   0.88%\n",
      "sentinel lymph node #1                   0.88%\n",
      "Name: proportion, dtype: object\n"
     ]
    }
   ],
   "source": [
    "cancer_location_freq = (df['Cancer Location'].value_counts(normalize=True) * 100).round(2)\n",
    "print(cancer_location_freq.astype(str) + '%')\n"
   ]
  },
  {
   "cell_type": "markdown",
   "id": "89957141",
   "metadata": {},
   "source": [
    "## Gather Data\n",
    "For documents with ground truth, read in model output"
   ]
  },
  {
   "cell_type": "code",
   "execution_count": 20,
   "id": "892782e2",
   "metadata": {},
   "outputs": [
    {
     "name": "stdout",
     "output_type": "stream",
     "text": [
      "We have 64 extracted docs\n"
     ]
    }
   ],
   "source": [
    "extracted_docs = {}\n",
    "\n",
    "for root, dirs, files in os.walk(extracted_dir):\n",
    "    for name in files:\n",
    "          if name.endswith('.txt'):\n",
    "                uuid = name.rstrip(\".txt\")\n",
    "                if uuid not in annotated_uuids:\n",
    "                    continue\n",
    "\n",
    "                file_path = os.path.join(extracted_dir, name)\n",
    "                with open(file_path, 'r') as file:\n",
    "                    extracted_docs[uuid] = file.read()\n",
    "                    \n",
    "print(f\"We have {len(extracted_docs)} extracted docs\")"
   ]
  },
  {
   "cell_type": "code",
   "execution_count": 21,
   "id": "e8013d8e",
   "metadata": {
    "scrolled": true
   },
   "outputs": [
    {
     "data": {
      "text/plain": [
       "'Cancer Type: Invasive Ductal Carcinoma\\nCancer Location: Left Breast<|im_end|>'"
      ]
     },
     "execution_count": 21,
     "metadata": {},
     "output_type": "execute_result"
    }
   ],
   "source": [
    "list(extracted_docs.values())[0]"
   ]
  },
  {
   "cell_type": "markdown",
   "id": "80c6f6c7",
   "metadata": {},
   "source": [
    "## Helper Functions\n",
    "\n",
    "1. Extract Info: Given some model output and some target, find the target in the output and get the models 'answer'. Relies heavily on model output coming out standardised in format - 'Target: Answer\\n'"
   ]
  },
  {
   "cell_type": "code",
   "execution_count": 19,
   "id": "f3b0b8ed",
   "metadata": {},
   "outputs": [],
   "source": [
    "def extract_info(doc, targets):\n",
    "    extracted_info = {}\n",
    "    \n",
    "    for i, target in enumerate(targets):\n",
    "        pattern = rf\"{target.lower()}: (.+?)(?=\\n|$)\"\n",
    "        match = re.search(pattern, doc, re.IGNORECASE)\n",
    "\n",
    "        if match:\n",
    "            extracted_info[target] = match.group(1).rstrip(\"<|im_end|>\")\n",
    "        else:\n",
    "            extracted_info[target] = 'none'\n",
    "    \n",
    "    return extracted_info\n",
    "        "
   ]
  },
  {
   "cell_type": "markdown",
   "id": "35a82701",
   "metadata": {},
   "source": [
    "## Measure results\n",
    "Compare model output to ground truth, assigning a '1' if the model output cintains the right information.\n",
    "We measure 'containing the right information' as any of\n",
    "- if ground truth in output\n",
    "- if output in ground truth\n",
    "- if output and ground truth are 'close' in fuzzy string matching"
   ]
  },
  {
   "cell_type": "code",
   "execution_count": 22,
   "id": "2058d8ac",
   "metadata": {
    "scrolled": true
   },
   "outputs": [
    {
     "data": {
      "text/plain": [
       "{'A8980EE8-52DE-4DA5-84DD-F8E86EBF6A9B': array([1., 1.]),\n",
       " '217E5C9A-950F-46C0-A022-5ECE5205D9D4': array([1., 1.]),\n",
       " 'AE348902-0573-4A57-BBD6-037FA2AF1872': array([0., 1.]),\n",
       " 'E5C54019-F404-4F8D-847A-80CF65F65E19': array([1., 0.]),\n",
       " 'B0E8F3C1-E996-4E70-9630-AC95AF6E4EDC': array([1., 0.]),\n",
       " 'A4BFA94D-166F-43D4-90B5-3C547F4026A0': array([0., 0.]),\n",
       " '1FE4EB4C-FEF8-486A-B39D-6F9F023FDAC4': array([0., 1.]),\n",
       " 'A1D72B00-7384-4A8F-B335-5BEB9AE078FC': array([1., 1.]),\n",
       " '29EDE507-90BA-4ABE-B3EF-559EBA4CCD56': array([1., 1.]),\n",
       " '9A8F7726-D97C-44DE-B72F-6BF0FC2078F8': array([0., 0.]),\n",
       " '4FDBA110-6E14-428C-BF82-168AE28A14E4': array([0., 1.]),\n",
       " 'AB083371-A2AB-4F57-8FBF-0DB2C91CEDDE': array([1., 1.]),\n",
       " 'E5011BD1-E1DE-4A47-BF3C-66BA1E0B84DC': array([0., 1.]),\n",
       " '5D93AE27-79A0-4809-AE7C-54814CED0851': array([0., 1.]),\n",
       " 'DD5295D4-3896-4AA5-AF75-30AEA45D1652': array([1., 1.]),\n",
       " '13C40632-79E2-485C-9EF2-DA6D075B054C': array([0., 0.]),\n",
       " '9A5C8EDF-9243-4F55-9036-A400CF3F4CC1': array([1., 1.]),\n",
       " 'E1EA2600-CEEE-4009-A2E7-D845153DB167': array([1., 1.]),\n",
       " '22990911-A16F-4607-8722-C610ED1C590B': array([1., 1.]),\n",
       " '6749D901-D37C-4EF9-B0A0-0EE0EE1D7F0E': array([0., 0.]),\n",
       " '5F2A52E5-2844-4242-8CE4-A87DF9D9C97B': array([0., 0.]),\n",
       " '041580F0-700A-4A47-83A6-207ED267E844': array([0., 0.]),\n",
       " 'E0CCE6AD-38A6-446C-ACF7-358C1DFC59F8': array([1., 1.]),\n",
       " '57359A9F-7E5A-4599-918C-A95DCF0D9479': array([0., 0.]),\n",
       " 'A47B8835-2314-4631-B55D-F99AF91AD5E7': array([1., 0.]),\n",
       " 'DD0ADC20-2059-435E-9EB4-351C87D7CBEB': array([0., 0.]),\n",
       " '9546E974-686D-4D97-B5BD-771972CB4B82': array([1., 0.]),\n",
       " '9714A9F8-B507-43E6-9D56-1852F5D1F675': array([0., 1.]),\n",
       " '1DFAF7F2-8902-403C-B903-DC59C8156D17': array([0., 0.]),\n",
       " '079475A1-B61D-4CB3-B1E1-A5A890D3073B': array([1., 1.]),\n",
       " '63D133EB-0AA7-4C76-BF48-B9206DF8975': array([1., 1.]),\n",
       " 'D564A7FB-4F0A-4589-AB32-A6CD8B547219': array([1., 1.]),\n",
       " 'E00CB449-F980-4829-A006-32706F041E94': array([0., 1.]),\n",
       " 'E49FAC55-434A-429B-8E61-C5E0FBD7C15C': array([1., 1.]),\n",
       " 'A845013D-BF15-42FB-8BFE-FCE206E943FE': array([0., 0.]),\n",
       " '252A2D12-EC16-459E-8486-7814FF39E6C2': array([0., 1.]),\n",
       " 'E306BE26-0358-4BE4-AEF6-AD42CC0DA020': array([0., 0.]),\n",
       " 'AE0C51EF-017E-4F53-968C-804110F9A7E6': array([0., 1.]),\n",
       " '589BC4DD-0079-4106-A2E6-9A48E9BD7DE2': array([0., 1.]),\n",
       " '549E825B-F206-4FF9-835B-2FBE51C7B831': array([0., 0.]),\n",
       " '12DAEBF2-CDBF-4D90-9C74-2A2AEF1E8433': array([1., 1.]),\n",
       " 'A8247167-A991-441B-B60A-9F69F4C5D9DA': array([1., 1.]),\n",
       " 'E5B6771D-450A-49AD-AEBC-7FC056BFCDBE': array([1., 1.]),\n",
       " '9AC3C8F7-8399-46B1-9F2C-4E994FAF88A3': array([1., 1.]),\n",
       " '9F7E2B98-29E7-465F-AE12-33D78FDFD71A': array([1., 0.]),\n",
       " '5AEE90E0-A9A1-4944-AD6A-2675764D869': array([0., 1.]),\n",
       " '5173DB84-EE23-4973-A244-4BB1D79325C9': array([1., 2.]),\n",
       " '0E9E74B2-7FD5-47B0-ADF5-83C83B0C2D3': array([0., 1.]),\n",
       " 'DD2B9E47-8C67-4599-B0B6-0D30DE727B55': array([1., 1.]),\n",
       " '2A3C5E05-A4B8-4C01-B61D-3C46E9614707': array([0., 0.]),\n",
       " '5780D50C-5BF0-4392-BC9B-894D1369866A': array([0., 0.]),\n",
       " '156DF753-DB3A-4934-9618-1E18CE46C845': array([1., 1.]),\n",
       " 'DF890966-D14E-4EDF-B6E3-E10E40BA5B5': array([1., 1.]),\n",
       " '5049C91E-F4BB-4AA7-BE64-837168189379': array([0., 1.]),\n",
       " '64F84FF4-A477-4E1E-B4BB-E5614517229E': array([0., 0.]),\n",
       " '50F3690C-2082-4590-A923-656C5F226FAE': array([1., 1.]),\n",
       " '5A6E0F10-758E-4DC1-A5C7-57D5DF9B25E': array([0., 1.]),\n",
       " 'D58E5D64-B5B9-4487-8E46-225AE3617C14': array([1., 1.]),\n",
       " 'D9853B55-FD00-4A20-8181-5F4DAD297724': array([1., 1.]),\n",
       " '26C566AF-C710-4856-AC21-83D73370EA84': array([0., 0.]),\n",
       " '54B34D85-D6D2-4C35-B43B-F7B10B99B651': array([2., 2.]),\n",
       " 'DD89D265-9E20-49C2-93BD-666BE7D5E41B': array([1., 1.]),\n",
       " '25F791D8-27D6-4DC6-8D96-5D5CF68A5F13': array([1., 1.]),\n",
       " 'DFDFA10E-5E7D-4A1D-B355-AFC8C8418925': array([1., 1.])}"
      ]
     },
     "execution_count": 22,
     "metadata": {},
     "output_type": "execute_result"
    }
   ],
   "source": [
    "results = {}\n",
    "num_targets = 0\n",
    "model_output_none = 0\n",
    "for uuid in extracted_docs:\n",
    "    results[uuid] = np.zeros(2)\n",
    "    doc = extracted_docs[uuid].lower()\n",
    "    model_output = extract_info(doc, targets)\n",
    "    \n",
    "    ground_truth = df[df[\"UUID\"] == uuid][targets]\n",
    "    num_targets += ground_truth.shape[0]\n",
    "\n",
    "    \n",
    "    for i, target in enumerate(targets):\n",
    "        for j in range(len(ground_truth)):\n",
    "            t = ground_truth.iloc[j][target].lower()\n",
    "            t_hat = model_output[target]\n",
    "            \n",
    "            if target == \"Cancer Location\":\n",
    "                t = standardize_location(t)\n",
    "                t_hat = standardize_location(t_hat)\n",
    "            \n",
    "            similarity_score = fuzz.ratio(t.lower(), t_hat.lower())\n",
    "            \n",
    "            if (t in t_hat) or (t_hat in t) or (similarity_score > 80):\n",
    "                results[uuid][i] += 1\n",
    "            \n",
    "            if t_hat == 'none':\n",
    "                model_output_none += 1\n",
    "\n",
    "results"
   ]
  },
  {
   "cell_type": "markdown",
   "id": "be607869",
   "metadata": {},
   "source": [
    "## Accuracy\n",
    "\n",
    "Accuracy Scores for Cancer Type, Cancer Location.\n",
    "\n",
    "Percentage of model output where regex failed to strip. (Model output not in the expected format of \"{var}: \\n\".)"
   ]
  },
  {
   "cell_type": "code",
   "execution_count": 35,
   "id": "400db070",
   "metadata": {
    "scrolled": true
   },
   "outputs": [
    {
     "name": "stdout",
     "output_type": "stream",
     "text": [
      "Cancer Type - Accuracy: 47.9%\n",
      "Cancer Location - Accuracy: 61.6%\n",
      "\n",
      "Regex failed to strip: 20.5%\n"
     ]
    }
   ],
   "source": [
    "result = np.sum(list(results.values()), axis=0) / num_targets\n",
    "\n",
    "for i, target in enumerate(targets):\n",
    "    print(f\"{target} - Accuracy: {100*round(result[i], 3)}%\")\n",
    "    \n",
    "print(f\"\\nRegex failed to strip: {round(model_output_none / (num_targets*2),3)*100}%\")"
   ]
  }
 ],
 "metadata": {
  "kernelspec": {
   "display_name": "Python 3 (ipykernel)",
   "language": "python",
   "name": "python3"
  },
  "language_info": {
   "codemirror_mode": {
    "name": "ipython",
    "version": 3
   },
   "file_extension": ".py",
   "mimetype": "text/x-python",
   "name": "python",
   "nbconvert_exporter": "python",
   "pygments_lexer": "ipython3",
   "version": "3.11.5"
  }
 },
 "nbformat": 4,
 "nbformat_minor": 5
}
